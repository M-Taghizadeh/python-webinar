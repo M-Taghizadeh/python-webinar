{
 "cells": [
  {
   "cell_type": "markdown",
   "metadata": {},
   "source": [
    "# String"
   ]
  },
  {
   "cell_type": "code",
   "execution_count": null,
   "metadata": {},
   "outputs": [],
   "source": [
    "### define\n",
    "message = 'Python Programming Language'\n",
    "print(message)"
   ]
  },
  {
   "cell_type": "code",
   "execution_count": null,
   "metadata": {},
   "outputs": [],
   "source": [
    "### multiple lines\n",
    "msg = \"\"\"Lorem ipsum dolor sit amet,\n",
    "consectetur adipiscing elit,\n",
    "sed do eiusmod tempor incididunt\n",
    "ut labore et dolore magna aliqua.\"\"\"\n",
    "print(msg)"
   ]
  },
  {
   "cell_type": "code",
   "execution_count": null,
   "metadata": {},
   "outputs": [],
   "source": [
    "### string array\n",
    "print(msg[1])\n",
    "\n",
    "\n",
    "### slicing\n",
    "print(msg[2:5])\n",
    "print(msg[2:])\n",
    "print(msg[:5])\n",
    "print(msg[:-1])\n",
    "print(msg[-5:-2])"
   ]
  },
  {
   "cell_type": "code",
   "execution_count": null,
   "metadata": {},
   "outputs": [],
   "source": [
    "### len\n",
    "print(len(msg))"
   ]
  },
  {
   "cell_type": "code",
   "execution_count": null,
   "metadata": {},
   "outputs": [],
   "source": [
    "### check string\n",
    "if \"Programming\" not in message:\n",
    "    print(\"True\")\n",
    "else:\n",
    "    print(\"False\")"
   ]
  },
  {
   "cell_type": "code",
   "execution_count": null,
   "metadata": {},
   "outputs": [],
   "source": [
    "# loop string\n",
    "for ch in msg:\n",
    "    print(ch)"
   ]
  },
  {
   "cell_type": "code",
   "execution_count": null,
   "metadata": {},
   "outputs": [],
   "source": [
    "### string modify methods\n",
    "print(msg.lower())\n",
    "print(msg.strip())\n",
    "print(msg.upper())\n",
    "print(msg.replace(\"H\", \"J\"))\n",
    "print(msg.split(\",\"))"
   ]
  },
  {
   "cell_type": "code",
   "execution_count": null,
   "metadata": {},
   "outputs": [],
   "source": [
    "### concat\n",
    "print(msg + \"end\")\n",
    "\n",
    "### Operators\n",
    "print(msg*2)"
   ]
  },
  {
   "cell_type": "code",
   "execution_count": null,
   "metadata": {},
   "outputs": [],
   "source": [
    "### format\n",
    "name = 'mohammad'\n",
    "age = 22\n",
    "msg = \"man {} hastam va {} am shude.. \"\n",
    "print(msg.format(name, age))"
   ]
  },
  {
   "cell_type": "code",
   "execution_count": null,
   "metadata": {},
   "outputs": [],
   "source": [
    "### F-string\n",
    "print(f\"name {name}\")"
   ]
  },
  {
   "cell_type": "code",
   "execution_count": null,
   "metadata": {},
   "outputs": [],
   "source": [
    "# \\ Escape Character\n",
    "# \\'\tSingle Quote\t\n",
    "# \\\\\tBackslash\t\n",
    "# \\n\tNew Line\t\n",
    "# \\r\tCarriage Return\t\n",
    "# \\t\tTab\t\n",
    "# \\b\tBackspace\t\n",
    "# \\f\tForm Feed\t\n",
    "# \\ooo\tOctal value\t\n",
    "# \\xhh\tHex value\n",
    "print(message+\"\\n\")\n",
    "print(message+\"\\t\")"
   ]
  },
  {
   "cell_type": "markdown",
   "metadata": {},
   "source": [
    "### String methods \n",
    "\n",
    "**capitalize()**\tConverts the first character to upper case\n",
    "\n",
    "**casefold()**\tConverts string into lower case\n",
    "\n",
    "**center()**\tReturns a centered string\n",
    "\n",
    "**count()**\tReturns the number of times a specified value occurs in a string\n",
    "\n",
    "**encode()**\tReturns an encoded version of the string\n",
    "\n",
    "**endswith()**\tReturns true if the string ends with the specified value\n",
    "\n",
    "**expandtabs()**\tSets the tab size of the string\n",
    "\n",
    "**find()**\tSearches the string for a specified value and returns the position of where it was found\n",
    "\n",
    "**format()**\tFormats specified values in a string\n",
    "\n",
    "**format_map()**\tFormats specified values in a string\n",
    "\n",
    "**index()**\tSearches the string for a specified value and returns the position of where it was found\n",
    "\n",
    "**isalnum()**\tReturns True if all characters in the string are alphanumeric\n",
    "\n",
    "**isalpha()**\tReturns True if all characters in the string are in the alphabet\n",
    "\n",
    "**isdecimal()**\tReturns True if all characters in the string are decimals\n",
    "\n",
    "**isdigit()**\tReturns True if all characters in the string are digits\n",
    "\n",
    "**isidentifier()**\tReturns True if the string is an identifier\n",
    "\n",
    "**islower()**\tReturns True if all characters in the string are lower case\n",
    "\n",
    "**isnumeric()**\tReturns True if all characters in the string are numeric\n",
    "\n",
    "**isprintable()**\tReturns True if all characters in the string are printable\n",
    "\n",
    "**isspace()**\tReturns True if all characters in the string are whitespaces\n",
    "\n",
    "**istitle()**\tReturns True if the string follows the rules of a title\n",
    "\n",
    "**isupper()**\tReturns True if all characters in the string are upper case\n",
    "\n",
    "**join()**\tJoins the elements of an iterable to the end of the string\n",
    "\n",
    "**ljust()**\tReturns a left justified version of the string\n",
    "\n",
    "**lower()**\tConverts a string into lower case\n",
    "\n",
    "**lstrip()**\tReturns a left trim version of the string\n",
    "\n",
    "**maketrans()**\tReturns a translation table to be used in translations\n",
    "\n",
    "**partition()**\tReturns a tuple where the string is parted into three parts\n",
    "\n",
    "**replace()**\tReturns a string where a specified value is replaced with a specified value\n",
    "\n",
    "**rfind()**\tSearches the string for a specified value and returns the last position of where it was found\n",
    "\n",
    "**rindex()**\tSearches the string for a specified value and returns the last position of where it was found\n",
    "\n",
    "**rjust()**\tReturns a right justified version of the string\n",
    "\n",
    "**rpartition()**\tReturns a tuple where the string is parted into three parts\n",
    "\n",
    "**rsplit()**\tSplits the string at the specified separator, and returns a list\n",
    "\n",
    "**rstrip()**\tReturns a right trim version of the string\n",
    "\n",
    "**split()**\tSplits the string at the specified separator, and returns a list\n",
    "\n",
    "**splitlines()**\tSplits the string at line breaks and returns a list\n",
    "\n",
    "**startswith()**\tReturns true if the string starts with the specified value\n",
    "\n",
    "**strip()**\tReturns a trimmed version of the string\n",
    "\n",
    "**swapcase()**\tSwaps cases, lower case becomes upper case and vice versa\n",
    "\n",
    "**title()**\tConverts the first character of each word to upper case\n",
    "\n",
    "**translate()**\tReturns a translated string\n",
    "\n",
    "**upper()**\tConverts a string into upper case\n",
    "\n",
    "**zfill()**\tFills the string with a specified number of 0 values at the beginning\n"
   ]
  }
 ],
 "metadata": {
  "interpreter": {
   "hash": "d406864f2ee78ecc67afccccd0a48c216f41ca3a0f9ca739a0b9d8b15ae422ba"
  },
  "kernelspec": {
   "display_name": "Python 3.10.2 64-bit",
   "language": "python",
   "name": "python3"
  },
  "language_info": {
   "name": "python",
   "version": "3.10.2"
  },
  "orig_nbformat": 4
 },
 "nbformat": 4,
 "nbformat_minor": 2
}
