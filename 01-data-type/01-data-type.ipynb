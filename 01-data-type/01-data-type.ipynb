{
 "cells": [
  {
   "cell_type": "markdown",
   "id": "fc291acf",
   "metadata": {},
   "source": [
    "# Data Type in python\n",
    "![data-type](datatypes.png)"
   ]
  },
  {
   "cell_type": "markdown",
   "id": "5f861e8c",
   "metadata": {},
   "source": [
    "### Rules for Python variables\n",
    "\n",
    "- A variable name must start with a letter or the underscore character\n",
    "- A variable name cannot start with a number\n",
    "- A variable name can only contain alpha-numeric characters and underscores (A-z, 0-9, and _ )\n",
    "- Variable names are case-sensitive (age, Age and AGE are three different variables)"
   ]
  },
  {
   "cell_type": "code",
   "execution_count": null,
   "id": "0fba38d8",
   "metadata": {},
   "outputs": [],
   "source": [
    "# String\n",
    "name = \"Mohammad Taghizadeh\" \n",
    "print(name)"
   ]
  },
  {
   "cell_type": "code",
   "execution_count": null,
   "id": "8e8ae145",
   "metadata": {},
   "outputs": [],
   "source": [
    "age = 23 # Integer\n",
    "avg = 45.46 # Float\n",
    "flag = True # Boolean"
   ]
  },
  {
   "cell_type": "code",
   "execution_count": null,
   "id": "66cf9e18",
   "metadata": {},
   "outputs": [],
   "source": [
    "# Collections : dict, set, list, tuple, range\n",
    "\n",
    "products = {\n",
    "    \"name\": \"Car\",\n",
    "    \"price\": 22000000,\n",
    "    \"speed\": \"200km/h\",\n",
    "}\n",
    "\n",
    "my_set = {\"apple\", \"car\", \"mobile\", \"computer\"}\n",
    "\n",
    "my_iter = range(10) \n",
    "\n",
    "my_list = [name, \"test\", my_set, products]\n",
    "\n",
    "my_tuple = (\"mobile\", \"laptop\", \"pc\")"
   ]
  },
  {
   "cell_type": "code",
   "execution_count": null,
   "id": "3d4834ae",
   "metadata": {},
   "outputs": [],
   "source": [
    "# type() function\n",
    "print(type(products))\n",
    "print(type(my_set))\n",
    "print(type(my_iter))\n",
    "print(type(my_list))\n",
    "print(type(my_tuple))"
   ]
  },
  {
   "cell_type": "code",
   "execution_count": null,
   "id": "28c80739",
   "metadata": {},
   "outputs": [],
   "source": [
    "# type casting\n",
    "str_product = str(products)\n",
    "print(str_product, type(str_product))"
   ]
  },
  {
   "cell_type": "code",
   "execution_count": null,
   "id": "b8698b42",
   "metadata": {},
   "outputs": [],
   "source": [
    "# input()\n",
    "number = int(input(\"Enter number: \"))\n",
    "print(number, type(number))"
   ]
  }
 ],
 "metadata": {
  "kernelspec": {
   "display_name": "Python 3 (ipykernel)",
   "language": "python",
   "name": "python3"
  },
  "language_info": {
   "codemirror_mode": {
    "name": "ipython",
    "version": 3
   },
   "file_extension": ".py",
   "mimetype": "text/x-python",
   "name": "python",
   "nbconvert_exporter": "python",
   "pygments_lexer": "ipython3",
   "version": "3.10.2"
  }
 },
 "nbformat": 4,
 "nbformat_minor": 5
}
