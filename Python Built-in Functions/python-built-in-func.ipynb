{
 "cells": [
  {
   "cell_type": "markdown",
   "metadata": {},
   "source": [
    "| Function      | Description    |\n",
    "|---------------|----------------|\n",
    "| abs()         | \tReturns the absolute value of a number\n",
    "| all()         | \tReturns True if all items in an iterable object are true\n",
    "| any()         | \tReturns True if any item in an iterable object is true\n",
    "| ascii()       | \tReturns a readable version of an object. Replaces none-ascii characters with escape character\n",
    "| bin()         | \tReturns the binary version of a number\n",
    "| bool()        | \tReturns the boolean value of the specified object\n",
    "| bytearray()   | \tReturns an array of bytes\n",
    "| bytes()       | \tReturns a bytes object\n",
    "| callable()    | \tReturns True if the specified object is callable, otherwise False\n",
    "| chr()         | \tReturns a character from the specified Unicode code.\n",
    "| classmethod() | \tConverts a method into a class method\n",
    "| compile()     | \tReturns the specified source as an object, ready to be executed\n",
    "| complex()     | \tReturns a complex number\n",
    "| delattr()     | \tDeletes the specified attribute (property or method) from the specified object\n",
    "| dict()        | \tReturns a dictionary (Array)\n",
    "| dir()         | \tReturns a list of the specified object's properties and methods\n",
    "| divmod()      | \tReturns the quotient and the remainder when argument1 is divided by argument2\n",
    "| enumerate()   | \tTakes a collection (e.g. a tuple) and returns it as an enumerate object\n",
    "| eval()        | \tEvaluates and executes an expression\n",
    "| exec()        | \tExecutes the specified code (or object)\n",
    "| filter()      | \tUse a filter function to exclude items in an iterable object\n",
    "| float()       | \tReturns a floating point number\n",
    "| format()      | \tFormats a specified value\n",
    "| frozenset()   | \tReturns a frozenset object\n",
    "| getattr()     | \tReturns the value of the specified attribute (property or method)\n",
    "| globals()     | \tReturns the current global symbol table as a dictionary\n",
    "| hasattr()     | \tReturns True if the specified object has the specified attribute (property/method)\n",
    "| hash()        | \tReturns the hash value of a specified object\n",
    "| help()        | \tExecutes the built-in help system\n",
    "| hex()         | \tConverts a number into a hexadecimal value\n",
    "| id()          | \tReturns the id of an object\n",
    "| input()       | \tAllowing user input\n",
    "| int()         | \tReturns an integer number\n",
    "| isinstance()  | \tReturns True if a specified object is an instance of a specified object\n",
    "| issubclass()  | \tReturns True if a specified class is a subclass of a specified object\n",
    "| iter()        | \tReturns an iterator object\n",
    "| len()         | \tReturns the length of an object\n",
    "| list()        | \tReturns a list\n",
    "| locals()      | \tReturns an updated dictionary of the current local symbol table\n",
    "| map()         | \tReturns the specified iterator with the specified function applied to each item\n",
    "| max()         | \tReturns the largest item in an iterable\n",
    "| memoryview()  | \tReturns a memory view object\n",
    "| min()         | \tReturns the smallest item in an iterable\n",
    "| next()        | \tReturns the next item in an iterable\n",
    "| object()      | \tReturns a new object\n",
    "| oct()         | \tConverts a number into an octal\n",
    "| open()        | \tOpens a file and returns a file object\n",
    "| ord()         | \tConvert an integer representing the Unicode of the specified character\n",
    "| pow()         | \tReturns the value of x to the power of y\n",
    "| print()       | \tPrints to the standard output device\n",
    "| property()    | \tGets, sets, deletes a property\n",
    "| range()       | \tReturns a sequence of numbers, starting from 0 and increments by 1 (by default)\n",
    "| repr()        | \tReturns a readable version of an object\n",
    "| reversed()    | \tReturns a reversed iterator\n",
    "| round()       | \tRounds a numbers\n",
    "| set()         | \tReturns a new set object\n",
    "| setattr()     | \tSets an attribute (property/method) of an object\n",
    "| slice()       | \tReturns a slice object\n",
    "| sorted()      | \tReturns a sorted list\n",
    "| staticmethod()| \tConverts a method into a static method\n",
    "| str()         | \tReturns a string object\n",
    "| sum()         | \tSums the items of an iterator\n",
    "| super()       | \tReturns an object that represents the parent class\n",
    "| tuple()       | \tReturns a tuple\n",
    "| type()        | \tReturns the type of an object\n",
    "| vars()        | \tReturns the __dict__ property of an object\n",
    "| zip()         | \tReturns an iterator, from two or more iterators"
   ]
  },
  {
   "cell_type": "code",
   "execution_count": null,
   "metadata": {},
   "outputs": [],
   "source": [
    "# round()\n",
    "\n",
    "x = round(120.78543, 2)\n",
    "print(x)"
   ]
  },
  {
   "cell_type": "code",
   "execution_count": null,
   "metadata": {},
   "outputs": [],
   "source": [
    "# abs()\n",
    "\n",
    "x = abs(-98.25)\n",
    "print(x)"
   ]
  },
  {
   "cell_type": "code",
   "execution_count": null,
   "metadata": {},
   "outputs": [],
   "source": [
    "# pow()\n",
    "\n",
    "x = pow(5, 3)\n",
    "print(x)"
   ]
  },
  {
   "cell_type": "code",
   "execution_count": null,
   "metadata": {},
   "outputs": [],
   "source": [
    "# min(), max(), sum(), sorted(), ...\n",
    "\n",
    "my_list = [2, 3, 21, 7, 10, 120, 10, 1, -10, 87]\n",
    "MIN = min(my_list)\n",
    "MAX = max(my_list)\n",
    "SUM = sum(my_list)\n",
    "\n",
    "print(f\"min: {MIN}\")\n",
    "print(f\"max: {MAX}\")\n",
    "print(f\"sum: {SUM}\")\n",
    "\n",
    "print(sorted(my_list))"
   ]
  },
  {
   "cell_type": "code",
   "execution_count": null,
   "metadata": {},
   "outputs": [],
   "source": [
    "# zip()\n",
    "\n",
    "name = (\"Mohammad\", \"Ali\", \"Reza\")\n",
    "family = (\"Taghizadeh\", \"Alipour\", \"Razavi\")\n",
    "\n",
    "full_name = zip(name, family)\n",
    "print(full_name)\n",
    "\n",
    "for person in full_name:\n",
    "    print(person)\n"
   ]
  },
  {
   "cell_type": "code",
   "execution_count": null,
   "metadata": {},
   "outputs": [],
   "source": [
    "# map() : Returns the specified iterator with the specified function applied to each item\n",
    "\n",
    "def myfunc(n):\n",
    "  return len(n)\n",
    "\n",
    "x = map(myfunc, ('apple', 'banana', 'car'))\n",
    "print(list(x))"
   ]
  },
  {
   "cell_type": "code",
   "execution_count": null,
   "metadata": {},
   "outputs": [],
   "source": [
    "# map() : for example \n",
    "\n",
    "def calculate_avg(sum, units):\n",
    "    return sum/units\n",
    "\n",
    "\n",
    "x = map(calculate_avg, (300, 310, 290), (18, 17, 19))\n",
    "for item in x: \n",
    "    print(item)"
   ]
  }
 ],
 "metadata": {
  "interpreter": {
   "hash": "be9629fab3fb37cb24fbe9e5e8f2c78e4e122738bf6aeb61deaa986d4afe2e6a"
  },
  "kernelspec": {
   "display_name": "Python 3.10.2 64-bit",
   "language": "python",
   "name": "python3"
  },
  "language_info": {
   "codemirror_mode": {
    "name": "ipython",
    "version": 3
   },
   "file_extension": ".py",
   "mimetype": "text/x-python",
   "name": "python",
   "nbconvert_exporter": "python",
   "pygments_lexer": "ipython3",
   "version": "3.10.2"
  },
  "orig_nbformat": 4
 },
 "nbformat": 4,
 "nbformat_minor": 2
}
