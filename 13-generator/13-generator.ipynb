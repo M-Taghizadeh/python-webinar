{
 "cells": [
  {
   "cell_type": "markdown",
   "metadata": {},
   "source": [
    "# Generator \n",
    "- Generator use for iterate in iterable object(Lazy Iterator)\n",
    "- Increasing speed\n",
    "- Reduce memory usage\n",
    "- used in iterators(for while)\n",
    "\n",
    "<!-- ![generator](generator-vs-function.png =250x) -->\n",
    "\n",
    "<img src=\"generator-vs-function.png\" width=\"70%\">"
   ]
  },
  {
   "cell_type": "code",
   "execution_count": null,
   "metadata": {},
   "outputs": [],
   "source": [
    "# yield\n",
    "def show_product():\n",
    "    yield 'laptop'\n",
    "    yield 'computer'\n",
    "    yield 'watch'\n",
    "    yield 'pc'\n",
    "    yield 'car'\n",
    "\n",
    "\n",
    "print(show_product()) # <generator object>\n",
    "for i in show_product():\n",
    "    print(i)"
   ]
  },
  {
   "cell_type": "code",
   "execution_count": null,
   "metadata": {},
   "outputs": [],
   "source": [
    "# next()\n",
    "products = show_product()\n",
    "\n",
    "\n",
    "print(next(products))\n",
    "print(next(products))"
   ]
  },
  {
   "cell_type": "markdown",
   "metadata": {},
   "source": [
    "# Example \n",
    "\n",
    "### Using Classical function"
   ]
  },
  {
   "cell_type": "code",
   "execution_count": null,
   "metadata": {},
   "outputs": [],
   "source": [
    "def get_even(n):\n",
    "    num = 0\n",
    "    evens = []\n",
    "    while(num<n):\n",
    "        if num % 2 == 0:\n",
    "            evens.append(num)\n",
    "        num = num + 1\n",
    "        \n",
    "    return evens\n",
    "\n",
    "\n",
    "print(get_even(1000))"
   ]
  },
  {
   "cell_type": "markdown",
   "metadata": {},
   "source": [
    "### Using Generator : Lazy Iteration"
   ]
  },
  {
   "cell_type": "code",
   "execution_count": null,
   "metadata": {},
   "outputs": [],
   "source": [
    "def get_even_generator(n):\n",
    "    num = 0\n",
    "    while(num<n):\n",
    "        if num % 2 == 0:\n",
    "            yield num\n",
    "        num = num + 1\n",
    "\n",
    "\n",
    "even_numbers = get_even_generator(1000)\n",
    "print(next(even_numbers))\n",
    "print(next(even_numbers))\n",
    "print(next(even_numbers))"
   ]
  }
 ],
 "metadata": {
  "interpreter": {
   "hash": "d406864f2ee78ecc67afccccd0a48c216f41ca3a0f9ca739a0b9d8b15ae422ba"
  },
  "kernelspec": {
   "display_name": "Python 3.10.2 64-bit",
   "language": "python",
   "name": "python3"
  },
  "language_info": {
   "codemirror_mode": {
    "name": "ipython",
    "version": 3
   },
   "file_extension": ".py",
   "mimetype": "text/x-python",
   "name": "python",
   "nbconvert_exporter": "python",
   "pygments_lexer": "ipython3",
   "version": "3.10.2"
  },
  "orig_nbformat": 4
 },
 "nbformat": 4,
 "nbformat_minor": 2
}
