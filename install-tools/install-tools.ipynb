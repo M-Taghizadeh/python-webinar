{
 "cells": [
  {
   "cell_type": "markdown",
   "metadata": {},
   "source": [
    "# Install tools \n",
    "- Download Python : \n",
    "https://www.python.org/downloads/\n",
    "- Download Visual Studio Code : \n",
    "https://code.visualstudio.com/download\n"
   ]
  },
  {
   "cell_type": "markdown",
   "metadata": {},
   "source": [
    "# Install Python\n",
    "\n",
    "![install-python](01.png)\n",
    "![install-python](02.png)\n"
   ]
  },
  {
   "cell_type": "markdown",
   "metadata": {},
   "source": [
    "# Install Visual Studio Code\n",
    "\n",
    "![install-python](03.png)\n",
    "![install-python](04.png)"
   ]
  },
  {
   "cell_type": "markdown",
   "metadata": {},
   "source": [
    "# Python Extension in Visual Studio Code\n",
    "![python](05.png)\n",
    "\n",
    "# Jupyter Extension in Visual Studio Code\n",
    "![python](06.png)"
   ]
  }
 ],
 "metadata": {
  "language_info": {
   "name": "python"
  },
  "orig_nbformat": 4
 },
 "nbformat": 4,
 "nbformat_minor": 2
}
