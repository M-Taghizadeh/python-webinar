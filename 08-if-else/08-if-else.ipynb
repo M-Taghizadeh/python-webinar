{
 "cells": [
  {
   "cell_type": "markdown",
   "metadata": {},
   "source": [
    "# if elif else (Conditions)"
   ]
  },
  {
   "cell_type": "code",
   "execution_count": null,
   "metadata": {},
   "outputs": [],
   "source": [
    "# if condition:\n",
    "#     ....\n",
    "# elif condition:\n",
    "#     ....\n",
    "# elif condition:\n",
    "#     ....\n",
    "# else:\n",
    "#     ...."
   ]
  },
  {
   "cell_type": "markdown",
   "metadata": {},
   "source": [
    "### Operators\n",
    "- Equals: a == b\n",
    "- Not Equals: a != b\n",
    "- Less than: a < b\n",
    "- Less than or equal to: a <= b\n",
    "- Greater than: a > b\n",
    "- Greater than or equal to: a >= b"
   ]
  },
  {
   "cell_type": "code",
   "execution_count": null,
   "metadata": {},
   "outputs": [],
   "source": [
    "### quadratic equation example\n",
    "\n",
    "import math\n",
    "\n",
    "a = int(input('Enter a :'))\n",
    "b = int(input('Enter b :'))\n",
    "c = int(input('Enter c :'))\n",
    "delta = math.pow(b, 2) - (4*a*c)\n",
    "\n",
    "print(f\"delta is {delta} for a:{a} b:{b} c:{c}\")\n",
    "\n",
    "if delta > 0:\n",
    "    x1 = ( -b+(math.sqrt(delta)) )/ (2*a)\n",
    "    x2 = ( -b-(math.sqrt(delta)) )/ (2*a)\n",
    "    print('x1 = %s and x2 = %s' %(x1, x2))\n",
    "\n",
    "elif delta < 0:\n",
    "    print('The equation has no real answer.')\n",
    "\n",
    "else:\n",
    "    x = (-b) / (2*a)\n",
    "    print('x = %s' %x)\n"
   ]
  },
  {
   "cell_type": "code",
   "execution_count": null,
   "metadata": {},
   "outputs": [],
   "source": [
    "# Just For Test\n",
    "# a=5, b=6, c=1 ---> delta = 16 ---> x1=-0.2, x2=-1\n",
    "# a=1, b=2, c=1 ---> delta = 0  ---> x=-1\n",
    "# a=4, b=1, c=1 ---> delta = -15 "
   ]
  }
 ],
 "metadata": {
  "interpreter": {
   "hash": "d406864f2ee78ecc67afccccd0a48c216f41ca3a0f9ca739a0b9d8b15ae422ba"
  },
  "kernelspec": {
   "display_name": "Python 3.10.2 64-bit",
   "language": "python",
   "name": "python3"
  },
  "language_info": {
   "codemirror_mode": {
    "name": "ipython",
    "version": 3
   },
   "file_extension": ".py",
   "mimetype": "text/x-python",
   "name": "python",
   "nbconvert_exporter": "python",
   "pygments_lexer": "ipython3",
   "version": "3.10.2"
  },
  "orig_nbformat": 4
 },
 "nbformat": 4,
 "nbformat_minor": 2
}
