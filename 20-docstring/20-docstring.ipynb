{
 "cells": [
  {
   "cell_type": "markdown",
   "metadata": {},
   "source": [
    "# Python Docstring \n",
    "- A Python docstring is a string used to document a Python module, class, function or method\n",
    "- programmers can understand what it does without having to read the details of the implementation. \n",
    "- it is a common practice to generate online (html) documentation automatically from docstrings."
   ]
  },
  {
   "cell_type": "code",
   "execution_count": null,
   "metadata": {},
   "outputs": [],
   "source": [
    "def my_function():\n",
    "    '''Demonstrates triple double quotes\n",
    "    docstrings and does nothing really.\n",
    "    thats for documentations\n",
    "    '''\n",
    "   \n",
    "    return None\n",
    "  \n",
    "\n",
    "print(my_function.__doc__)"
   ]
  },
  {
   "cell_type": "code",
   "execution_count": null,
   "metadata": {},
   "outputs": [],
   "source": [
    "help(my_function)"
   ]
  },
  {
   "cell_type": "code",
   "execution_count": null,
   "metadata": {},
   "outputs": [],
   "source": [
    "def my_function(arg1):\n",
    "    \"\"\"\n",
    "    Summary line.\n",
    "  \n",
    "    Extended description of function.\n",
    "  \n",
    "    Parameters:\n",
    "    arg1 (int): Description of arg1\n",
    "  \n",
    "    Returns:\n",
    "    int: Description of return value\n",
    "  \n",
    "    \"\"\"\n",
    "  \n",
    "    return arg1\n",
    "  \n",
    "  \n",
    "print(my_function.__doc__)"
   ]
  },
  {
   "cell_type": "code",
   "execution_count": null,
   "metadata": {},
   "outputs": [],
   "source": [
    "# dir method() : Returns a list of the specified object's properties and methods\n",
    "\n",
    "class Person:\n",
    "  name = \"John\"\n",
    "  age = 36\n",
    "  country = \"Norway\"\n",
    "\n",
    "\n",
    "print(dir(Person))"
   ]
  }
 ],
 "metadata": {
  "interpreter": {
   "hash": "d406864f2ee78ecc67afccccd0a48c216f41ca3a0f9ca739a0b9d8b15ae422ba"
  },
  "kernelspec": {
   "display_name": "Python 3.10.2 64-bit",
   "language": "python",
   "name": "python3"
  },
  "language_info": {
   "codemirror_mode": {
    "name": "ipython",
    "version": 3
   },
   "file_extension": ".py",
   "mimetype": "text/x-python",
   "name": "python",
   "nbconvert_exporter": "python",
   "pygments_lexer": "ipython3",
   "version": "3.10.2"
  },
  "orig_nbformat": 4
 },
 "nbformat": 4,
 "nbformat_minor": 2
}
