{
 "cells": [
  {
   "cell_type": "markdown",
   "metadata": {},
   "source": [
    "# Function\n",
    "\n",
    "a function is a block of code which only runs when it is called.\n",
    "\n",
    "You can pass data, known as parameters, into a function.\n",
    "\n",
    "A function can return data as a result.\n",
    "\n",
    "![functions](func.png)\n"
   ]
  },
  {
   "cell_type": "code",
   "execution_count": null,
   "metadata": {},
   "outputs": [],
   "source": [
    "# define functions\n",
    "def say_hello(name, family):\n",
    "    print(f\"hello to {name} {family}\")"
   ]
  },
  {
   "cell_type": "code",
   "execution_count": null,
   "metadata": {},
   "outputs": [],
   "source": [
    "# call functions\n",
    "say_hello(\"Mohammad\", \"Taghizadeh\")\n",
    "say_hello(\"Ali\", \"Mahmoodi\")\n",
    "say_hello(\"Ahmad\", \"Rezapour\")"
   ]
  },
  {
   "cell_type": "code",
   "execution_count": null,
   "metadata": {},
   "outputs": [],
   "source": [
    "# Parameters or Arguments?\n",
    "# A parameter is the variable listed inside the parentheses in the function definition.\n",
    "# An argument is the value that is sent to the function when it is called."
   ]
  },
  {
   "cell_type": "code",
   "execution_count": null,
   "metadata": {},
   "outputs": [],
   "source": [
    "# default Arguments\n",
    "def show_user_info(name, last_name, age, email, country='iran'):\n",
    "    print('name :', name)\n",
    "    print('last name :', last_name)\n",
    "    print('age :', age)\n",
    "    print('email :', email)\n",
    "    print('country :', country)\n",
    "\n",
    "\n",
    "show_user_info('mohammad', 'taghizadeh', '22', 'taghizadeh@gmail.com')\n",
    "show_user_info('mahsan', 'motahari', '21', 'mahsan@gmail.com', 'germany')"
   ]
  },
  {
   "cell_type": "markdown",
   "metadata": {},
   "source": [
    "### *args\n",
    "\n",
    "If you do not know how many arguments that will be passed into your function, add a * before the parameter name in the function definition."
   ]
  },
  {
   "cell_type": "code",
   "execution_count": null,
   "metadata": {},
   "outputs": [],
   "source": [
    "def show_product(*products):\n",
    "    print(products[2:5])\n",
    "\n",
    "\n",
    "show_product(\"laptop\", \"pc\", \"computer\", \"mobile\", \"iphone\", \"tablet\")"
   ]
  },
  {
   "cell_type": "markdown",
   "metadata": {},
   "source": [
    "### **kwargs"
   ]
  },
  {
   "cell_type": "code",
   "execution_count": null,
   "metadata": {},
   "outputs": [],
   "source": [
    "def show_user_info(**users):\n",
    "    print(f\"user's first name is {users['firstname']}\")\n",
    "    print(f\"user's last name is {users['lastname']}\")\n",
    "\n",
    "\n",
    "show_user_info(firstname = \"mahdi\", lastname = \"mahdavi\")"
   ]
  },
  {
   "cell_type": "code",
   "execution_count": null,
   "metadata": {},
   "outputs": [],
   "source": [
    "# return value:\n",
    "def get_avg(sum_numbers, sum_unit):\n",
    "    avg = sum_numbers / sum_unit\n",
    "    return avg\n",
    "\n",
    "\n",
    "my_avg = get_avg(390, 20)\n",
    "print(\"AVG :\", my_avg)"
   ]
  },
  {
   "cell_type": "code",
   "execution_count": null,
   "metadata": {},
   "outputs": [],
   "source": [
    "#  Recursion ---> exp) Fibo Func : [0  1  1  2  3  5  8  13 …]\n",
    "def fibo(number):\n",
    "    if(number == 0 or number == 1):\n",
    "        return number\n",
    "    else:\n",
    "        return fibo(number - 1) + fibo(number - 2)\n",
    "\n",
    "\n",
    "number = int(input('Enter number :'))\n",
    "for i in range(0, number):\n",
    "    print(fibo(i))"
   ]
  },
  {
   "cell_type": "code",
   "execution_count": null,
   "metadata": {},
   "outputs": [],
   "source": [
    "# parameters : we can have any objects for parameters of functions : list tuple set dict , ...\n",
    "def show_users(users_list):\n",
    "    for user in users_list:\n",
    "        print(user)\n",
    "\n",
    "show_users(users_list= [\"mohammad\", \"ahmad\", \"sara\", \"sina\", \"ali\",])"
   ]
  }
 ],
 "metadata": {
  "interpreter": {
   "hash": "d406864f2ee78ecc67afccccd0a48c216f41ca3a0f9ca739a0b9d8b15ae422ba"
  },
  "kernelspec": {
   "display_name": "Python 3.10.2 64-bit",
   "language": "python",
   "name": "python3"
  },
  "language_info": {
   "codemirror_mode": {
    "name": "ipython",
    "version": 3
   },
   "file_extension": ".py",
   "mimetype": "text/x-python",
   "name": "python",
   "nbconvert_exporter": "python",
   "pygments_lexer": "ipython3",
   "version": "3.10.2"
  },
  "orig_nbformat": 4
 },
 "nbformat": 4,
 "nbformat_minor": 2
}
