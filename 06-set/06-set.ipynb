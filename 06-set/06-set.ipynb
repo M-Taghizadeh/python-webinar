{
 "cells": [
  {
   "cell_type": "markdown",
   "metadata": {},
   "source": [
    "# Python Collections\n",
    "- list\n",
    "- tuple\n",
    "- set\n",
    "- dictionary"
   ]
  },
  {
   "cell_type": "markdown",
   "metadata": {},
   "source": [
    "# Python Set\n",
    "\n",
    "A set is a collection which is unordered, unchangeable, and unindexed.\n",
    "and do not allow duplicate values"
   ]
  },
  {
   "cell_type": "code",
   "execution_count": null,
   "metadata": {},
   "outputs": [],
   "source": [
    "my_set = {\"title\", \"author\", \"date\", \"subject\", \"title\", \"title\"}\n",
    "\n",
    "\n",
    "# not allow duplicate values\n",
    "print(my_set)"
   ]
  },
  {
   "cell_type": "code",
   "execution_count": null,
   "metadata": {},
   "outputs": [],
   "source": [
    "# unordered\n",
    "print(my_set[1]) # TypeError: 'set' object is not subscriptable"
   ]
  },
  {
   "cell_type": "code",
   "execution_count": null,
   "metadata": {},
   "outputs": [],
   "source": [
    "# Access items : for loop\n",
    "for item in my_set:\n",
    "    print(item)"
   ]
  },
  {
   "cell_type": "code",
   "execution_count": null,
   "metadata": {},
   "outputs": [],
   "source": [
    "# add item\n",
    "my_set.add(\"content\")"
   ]
  },
  {
   "cell_type": "code",
   "execution_count": null,
   "metadata": {},
   "outputs": [],
   "source": [
    "# Join Two Sets : update() or union()\n",
    "# update --> Add multiple items to a set, using the update() method:\n",
    "my_set.update(['1', '2', '3'])\n",
    "my_set_new = my_set.union(['1', '2', '3'])\n",
    "print(my_set)\n",
    "print(my_set_new)"
   ]
  },
  {
   "cell_type": "code",
   "execution_count": null,
   "metadata": {},
   "outputs": [],
   "source": [
    "# len\n",
    "print(len(my_set))"
   ]
  },
  {
   "cell_type": "code",
   "execution_count": null,
   "metadata": {},
   "outputs": [],
   "source": [
    "# remove\n",
    "my_set.remove(\"content\")\n",
    "print(my_set)"
   ]
  },
  {
   "cell_type": "code",
   "execution_count": null,
   "metadata": {},
   "outputs": [],
   "source": [
    "# pop \n",
    "my_set.pop()\n",
    "print(my_set)"
   ]
  },
  {
   "cell_type": "code",
   "execution_count": null,
   "metadata": {},
   "outputs": [],
   "source": [
    "# clear\n",
    "my_set.clear()\n",
    "print(my_set)"
   ]
  },
  {
   "cell_type": "code",
   "execution_count": null,
   "metadata": {},
   "outputs": [],
   "source": [
    "# del set\n",
    "del my_set\n",
    "print(my_set)"
   ]
  },
  {
   "cell_type": "code",
   "execution_count": null,
   "metadata": {},
   "outputs": [],
   "source": [
    "# set Methods\n",
    "# add() : Adds an element to the set\n",
    "# clear() :\tRemoves all the elements from the set\n",
    "# copy() : Returns a copy of the set\n",
    "# difference() : Returns a set containing the difference between two or more sets\n",
    "# difference_update() : Removes the items in this set that are also included in another, specified set\n",
    "# discard() : Remove the specified item\n",
    "# intersection() : Returns a set, that is the intersection of two other sets\n",
    "# intersection_update() : Removes the items in this set that are not present in other, specified set(s)\n",
    "# isdisjoint() : Returns whether two sets have a intersection or not\n",
    "# issubset() : Returns whether another set contains this set or not\n",
    "# issuperset() : Returns whether this set contains another set or not\n",
    "# pop() : Removes an element from the set\n",
    "# remove() : Removes the specified element\n",
    "# symmetric_difference() : Returns a set with the symmetric differences of two sets\n",
    "# symmetric_difference_update() : inserts the symmetric differences from this set and another\n",
    "# union() : Return a set containing the union of sets\n",
    "# update() : Update the set with the union of this set and others"
   ]
  }
 ],
 "metadata": {
  "interpreter": {
   "hash": "d406864f2ee78ecc67afccccd0a48c216f41ca3a0f9ca739a0b9d8b15ae422ba"
  },
  "kernelspec": {
   "display_name": "Python 3.10.2 64-bit",
   "language": "python",
   "name": "python3"
  },
  "language_info": {
   "codemirror_mode": {
    "name": "ipython",
    "version": 3
   },
   "file_extension": ".py",
   "mimetype": "text/x-python",
   "name": "python",
   "nbconvert_exporter": "python",
   "pygments_lexer": "ipython3",
   "version": "3.10.2"
  },
  "orig_nbformat": 4
 },
 "nbformat": 4,
 "nbformat_minor": 2
}
