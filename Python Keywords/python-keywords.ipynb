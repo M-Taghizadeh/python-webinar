{
 "cells": [
  {
   "cell_type": "markdown",
   "metadata": {},
   "source": [
    "| Keyword\t    | Description|\n",
    "|---------------|-----------------------\n",
    "| and\t        | A logical operator                                                              \n",
    "| as\t        | To create an alias\n",
    "| assert\t    | For debugging\n",
    "| break\t        | To break out of a loop\n",
    "| class\t        | To define a class\n",
    "| continue\t    | To continue to the next iteration of a loop\n",
    "| def\t        | To define a function\n",
    "| del\t        | To delete an object\n",
    "| elif\t        | Used in conditional statements, same as else if\n",
    "| else\t        | Used in conditional statements\n",
    "| except\t    | Used with exceptions, what to do when an exception occurs\n",
    "| False\t        | Boolean value, result of comparison operations\n",
    "| finally\t    | a block of code that will be executed no matter if there is an exception or not\n",
    "| for\t        | To create a for loop\n",
    "| from\t        | To import specific parts of a module\n",
    "| global\t    | To declare a global variable\n",
    "| if\t        | To make a conditional statement\n",
    "| import\t    | To import a module\n",
    "| in\t        | To check if a value is present in a list, tuple, etc.\n",
    "| is\t        | To test if two variables are equal\n",
    "| lambda\t    | To create an anonymous function\n",
    "| None\t        | Represents a null value\n",
    "| nonlocal\t    | To declare a non-local variable\n",
    "| not\t        | A logical operator\n",
    "| or\t        | A logical operator\n",
    "| pass\t        | A null statement, a statement that will do nothing\n",
    "| raise\t        | To raise an exception\n",
    "| return\t    | To exit a function and return a value\n",
    "| True\t        | Boolean value, result of comparison operations\n",
    "| try\t        | To make a try...except statement\n",
    "| while\t        | To create a while loop\n",
    "| with\t        | Used to simplify exception handling\n",
    "| yield\t        | To end a function, returns a generator"
   ]
  }
 ],
 "metadata": {
  "language_info": {
   "name": "python"
  },
  "orig_nbformat": 4
 },
 "nbformat": 4,
 "nbformat_minor": 2
}
